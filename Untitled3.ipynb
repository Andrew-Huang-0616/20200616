{
  "nbformat": 4,
  "nbformat_minor": 0,
  "metadata": {
    "colab": {
      "name": "Untitled3.ipynb",
      "provenance": [],
      "authorship_tag": "ABX9TyNl/UQwi7A32S9MLRiHNR6W",
      "include_colab_link": true
    },
    "kernelspec": {
      "name": "python3",
      "display_name": "Python 3"
    },
    "language_info": {
      "name": "python"
    }
  },
  "cells": [
    {
      "cell_type": "markdown",
      "metadata": {
        "id": "view-in-github",
        "colab_type": "text"
      },
      "source": [
        "<a href=\"https://colab.research.google.com/github/Andrew-Huang-0616/20200616/blob/main/Untitled3.ipynb\" target=\"_parent\"><img src=\"https://colab.research.google.com/assets/colab-badge.svg\" alt=\"Open In Colab\"/></a>"
      ]
    },
    {
      "cell_type": "code",
      "execution_count": null,
      "metadata": {
        "id": "qDzdIMV1_VSu"
      },
      "outputs": [],
      "source": [
        "!pip install deepface\n"
      ]
    },
    {
      "cell_type": "code",
      "source": [
        "from deepface import DeepFace"
      ],
      "metadata": {
        "colab": {
          "base_uri": "https://localhost:8080/"
        },
        "id": "kPs_SHGi_bd0",
        "outputId": "b00f1c25-f49e-40d0-d5b4-eed9246899fc"
      },
      "execution_count": 2,
      "outputs": [
        {
          "output_type": "stream",
          "name": "stdout",
          "text": [
            "Directory  /root /.deepface created\n",
            "Directory  /root /.deepface/weights created\n"
          ]
        }
      ]
    },
    {
      "cell_type": "code",
      "source": [
        "!pip install pillow\n"
      ],
      "metadata": {
        "colab": {
          "base_uri": "https://localhost:8080/"
        },
        "id": "67doXm0m_ke7",
        "outputId": "17f07649-0950-451e-ecdf-4cd65e59587e"
      },
      "execution_count": 3,
      "outputs": [
        {
          "output_type": "stream",
          "name": "stdout",
          "text": [
            "Looking in indexes: https://pypi.org/simple, https://us-python.pkg.dev/colab-wheels/public/simple/\n",
            "Requirement already satisfied: pillow in /usr/local/lib/python3.7/dist-packages (7.1.2)\n"
          ]
        }
      ]
    },
    {
      "cell_type": "code",
      "source": [
        "from PIL import Image"
      ],
      "metadata": {
        "id": "91QSe6LL_uwz"
      },
      "execution_count": 8,
      "outputs": []
    },
    {
      "cell_type": "code",
      "source": [
        "im = Image.open(\"download.jpg\")"
      ],
      "metadata": {
        "id": "TMV6rKvkAEhG"
      },
      "execution_count": 12,
      "outputs": []
    },
    {
      "cell_type": "code",
      "source": [
        "im\n"
      ],
      "metadata": {
        "id": "MH2k4phWAr_f"
      },
      "execution_count": null,
      "outputs": []
    },
    {
      "cell_type": "code",
      "source": [
        "obj = DeepFace.analyze(img_path = \"download.jpg\", actions = ['age', 'gender', 'race', 'emotion'])"
      ],
      "metadata": {
        "colab": {
          "base_uri": "https://localhost:8080/"
        },
        "id": "-HPaUv39_zpj",
        "outputId": "5af2e96d-a185-4652-e210-856b8d6e4128"
      },
      "execution_count": 105,
      "outputs": [
        {
          "output_type": "stream",
          "name": "stderr",
          "text": [
            "Action: emotion: 100%|██████████| 4/4 [00:05<00:00,  1.31s/it]\n"
          ]
        }
      ]
    },
    {
      "cell_type": "code",
      "source": [
        "obj"
      ],
      "metadata": {
        "colab": {
          "base_uri": "https://localhost:8080/"
        },
        "id": "Ks52-67_A8ko",
        "outputId": "8f649289-644a-4efd-9f88-095c6032f20c"
      },
      "execution_count": 106,
      "outputs": [
        {
          "output_type": "execute_result",
          "data": {
            "text/plain": [
              "{'age': 23,\n",
              " 'dominant_emotion': 'neutral',\n",
              " 'dominant_race': 'asian',\n",
              " 'emotion': {'angry': 0.5635030101984739,\n",
              "  'disgust': 1.6502509581073355e-06,\n",
              "  'fear': 0.399202574044466,\n",
              "  'happy': 0.004496029941947199,\n",
              "  'neutral': 89.14365768432617,\n",
              "  'sad': 9.889064729213715,\n",
              "  'surprise': 7.909152941465436e-05},\n",
              " 'gender': 'Man',\n",
              " 'race': {'asian': 47.79513776302338,\n",
              "  'black': 4.623753949999809,\n",
              "  'indian': 7.475937902927399,\n",
              "  'latino hispanic': 28.056824207305908,\n",
              "  'middle eastern': 3.4078318625688553,\n",
              "  'white': 8.640515059232712},\n",
              " 'region': {'h': 859, 'w': 859, 'x': 760, 'y': 175}}"
            ]
          },
          "metadata": {},
          "execution_count": 106
        }
      ]
    },
    {
      "cell_type": "code",
      "source": [
        "f\"An {obj['dominant_race']} {obj['gender']}\""
      ],
      "metadata": {
        "colab": {
          "base_uri": "https://localhost:8080/",
          "height": 36
        },
        "id": "JTwLnwF0O828",
        "outputId": "de75da16-d1a9-4e25-9312-0f3de57963fd"
      },
      "execution_count": 125,
      "outputs": [
        {
          "output_type": "execute_result",
          "data": {
            "text/plain": [
              "'An asian Man'"
            ],
            "application/vnd.google.colaboratory.intrinsic+json": {
              "type": "string"
            }
          },
          "metadata": {},
          "execution_count": 125
        }
      ]
    },
    {
      "cell_type": "code",
      "source": [
        "b = 'The '"
      ],
      "metadata": {
        "id": "U6vGwkrUKhBf"
      },
      "execution_count": 84,
      "outputs": []
    },
    {
      "cell_type": "code",
      "source": [
        "c = ' of the person depicted '"
      ],
      "metadata": {
        "id": "rle4s7EoKy3S"
      },
      "execution_count": 87,
      "outputs": []
    },
    {
      "cell_type": "code",
      "source": [
        "d = 'is '"
      ],
      "metadata": {
        "id": "lljBDjL7LIJT"
      },
      "execution_count": 89,
      "outputs": []
    },
    {
      "cell_type": "code",
      "source": [
        "type(obj)"
      ],
      "metadata": {
        "colab": {
          "base_uri": "https://localhost:8080/"
        },
        "id": "lzHkgwxdLQ9Z",
        "outputId": "c249a021-b272-43db-c878-97776d565eae"
      },
      "execution_count": 98,
      "outputs": [
        {
          "output_type": "execute_result",
          "data": {
            "text/plain": [
              "dict"
            ]
          },
          "metadata": {},
          "execution_count": 98
        }
      ]
    },
    {
      "cell_type": "code",
      "source": [
        ""
      ],
      "metadata": {
        "id": "X4OmTsh7MMn1"
      },
      "execution_count": 102,
      "outputs": []
    },
    {
      "cell_type": "code",
      "source": [
        "for z in obj:\n",
        "  q = obj[z]\n",
        "  print(b+z+c+d+str(obj[z]))"
      ],
      "metadata": {
        "colab": {
          "base_uri": "https://localhost:8080/"
        },
        "id": "LHDG_dlVKSmm",
        "outputId": "2c459eb5-22c4-47b5-d16d-29095f885026"
      },
      "execution_count": 119,
      "outputs": [
        {
          "output_type": "stream",
          "name": "stdout",
          "text": [
            "The age of the person depicted is 23\n",
            "The region of the person depicted is {'x': 760, 'y': 175, 'w': 859, 'h': 859}\n",
            "The gender of the person depicted is Man\n",
            "The race of the person depicted is {'asian': 47.79513776302338, 'indian': 7.475937902927399, 'black': 4.623753949999809, 'white': 8.640515059232712, 'middle eastern': 3.4078318625688553, 'latino hispanic': 28.056824207305908}\n",
            "The dominant_race of the person depicted is asian\n",
            "The emotion of the person depicted is {'angry': 0.5635030101984739, 'disgust': 1.6502509581073355e-06, 'fear': 0.399202574044466, 'happy': 0.004496029941947199, 'sad': 9.889064729213715, 'surprise': 7.909152941465436e-05, 'neutral': 89.14365768432617}\n",
            "The dominant_emotion of the person depicted is neutral\n"
          ]
        }
      ]
    },
    {
      "cell_type": "code",
      "source": [
        "!pip install gradio"
      ],
      "metadata": {
        "id": "sYbcIYX3CErU"
      },
      "execution_count": null,
      "outputs": []
    },
    {
      "cell_type": "code",
      "source": [
        "import gradio as gr\n",
        "\n",
        "def analyze(image):\n",
        "    obj = DeepFace.analyze(img_path = \"download.jpg\", actions = ['age', 'gender', 'race', 'emotion'])\n",
        "    s = f\"An {obj['dominant_race']} {obj['gender']} feeling {obj['dominant_emotion']} located on coordinate {obj['region']}\"\n",
        "    return s\n",
        "\n",
        "demo = gr.Interface(fn=analyze, inputs=\"image\", outputs=\"text\")\n",
        "\n",
        "demo.launch(share=True)"
      ],
      "metadata": {
        "colab": {
          "base_uri": "https://localhost:8080/",
          "height": 647
        },
        "id": "PnLq39pwCckx",
        "outputId": "4bd514bc-6c79-4842-e81f-e26568b9a98e"
      },
      "execution_count": 157,
      "outputs": [
        {
          "output_type": "stream",
          "name": "stdout",
          "text": [
            "Colab notebook detected. To show errors in colab notebook, set `debug=True` in `launch()`\n",
            "Running on public URL: https://58773.gradio.app\n",
            "\n",
            "This share link expires in 72 hours. For free permanent hosting, check out Spaces (https://huggingface.co/spaces)\n"
          ]
        },
        {
          "output_type": "display_data",
          "data": {
            "text/plain": [
              "<IPython.core.display.HTML object>"
            ],
            "text/html": [
              "<div><iframe src=\"https://58773.gradio.app\" width=\"900\" height=\"500\" allow=\"autoplay; camera; microphone;\" frameborder=\"0\" allowfullscreen></iframe></div>"
            ]
          },
          "metadata": {}
        },
        {
          "output_type": "execute_result",
          "data": {
            "text/plain": [
              "(<gradio.routes.App at 0x7fc1fb296710>,\n",
              " 'http://127.0.0.1:7865/',\n",
              " 'https://58773.gradio.app')"
            ]
          },
          "metadata": {},
          "execution_count": 157
        }
      ]
    },
    {
      "cell_type": "code",
      "source": [
        "obj['age']"
      ],
      "metadata": {
        "colab": {
          "base_uri": "https://localhost:8080/"
        },
        "id": "PvotOdzHCgtl",
        "outputId": "02858b24-f7e2-4a2f-8a42-b6e0aa05ac34"
      },
      "execution_count": 21,
      "outputs": [
        {
          "output_type": "execute_result",
          "data": {
            "text/plain": [
              "23"
            ]
          },
          "metadata": {},
          "execution_count": 21
        }
      ]
    },
    {
      "cell_type": "code",
      "source": [
        "#dict"
      ],
      "metadata": {
        "id": "RR8ZNdIxEMvZ"
      },
      "execution_count": 22,
      "outputs": []
    },
    {
      "cell_type": "code",
      "source": [
        "a = {}"
      ],
      "metadata": {
        "id": "zB2kSk_kEbt_"
      },
      "execution_count": 74,
      "outputs": []
    },
    {
      "cell_type": "code",
      "source": [
        "type(a)"
      ],
      "metadata": {
        "colab": {
          "base_uri": "https://localhost:8080/"
        },
        "id": "8sHUe2-EER3L",
        "outputId": "341453e5-6775-4418-c2fe-b11ae5892e86"
      },
      "execution_count": 73,
      "outputs": [
        {
          "output_type": "execute_result",
          "data": {
            "text/plain": [
              "dict"
            ]
          },
          "metadata": {},
          "execution_count": 73
        }
      ]
    },
    {
      "cell_type": "code",
      "source": [
        "a['cat'] = 'felis catus'"
      ],
      "metadata": {
        "id": "ImdyC-B0EjV2"
      },
      "execution_count": 75,
      "outputs": []
    },
    {
      "cell_type": "code",
      "source": [
        "a['dog'] = 'canis lupus familiarus'"
      ],
      "metadata": {
        "id": "zQ05RzvTErfA"
      },
      "execution_count": 76,
      "outputs": []
    },
    {
      "cell_type": "code",
      "source": [
        "a['dog']"
      ],
      "metadata": {
        "colab": {
          "base_uri": "https://localhost:8080/",
          "height": 36
        },
        "id": "eaatfjJSEvLt",
        "outputId": "89168c57-2ef4-4b83-c7a4-56b9867f8c1f"
      },
      "execution_count": 77,
      "outputs": [
        {
          "output_type": "execute_result",
          "data": {
            "text/plain": [
              "'canis lupus familiarus'"
            ],
            "application/vnd.google.colaboratory.intrinsic+json": {
              "type": "string"
            }
          },
          "metadata": {},
          "execution_count": 77
        }
      ]
    },
    {
      "cell_type": "code",
      "source": [
        "a"
      ],
      "metadata": {
        "colab": {
          "base_uri": "https://localhost:8080/"
        },
        "id": "DUpj7z6nE4u3",
        "outputId": "f2986138-7c51-454f-bd7e-92030919540f"
      },
      "execution_count": 78,
      "outputs": [
        {
          "output_type": "execute_result",
          "data": {
            "text/plain": [
              "{'cat': 'felis catus', 'dog': 'canis lupus familiarus'}"
            ]
          },
          "metadata": {},
          "execution_count": 78
        }
      ]
    },
    {
      "cell_type": "code",
      "source": [
        "y='The Scientific name for '"
      ],
      "metadata": {
        "id": "Aza0oNA4E6Hm"
      },
      "execution_count": 79,
      "outputs": []
    },
    {
      "cell_type": "code",
      "source": [
        "z=' is '"
      ],
      "metadata": {
        "id": "Nb0EoXQ_I-pA"
      },
      "execution_count": 80,
      "outputs": []
    },
    {
      "cell_type": "code",
      "source": [
        "for x in a:\n",
        "  print(y+x+z+a[x])\n"
      ],
      "metadata": {
        "colab": {
          "base_uri": "https://localhost:8080/"
        },
        "id": "V2DM1fDaH1GH",
        "outputId": "2a4b0291-98b7-42bb-cc3f-74b2c5f591d3"
      },
      "execution_count": 81,
      "outputs": [
        {
          "output_type": "stream",
          "name": "stdout",
          "text": [
            "The Scientific name for cat is felis catus\n",
            "The Scientific name for dog is canis lupus familiarus\n"
          ]
        }
      ]
    },
    {
      "cell_type": "code",
      "source": [
        "for i in range(5):\n",
        "  print((4-i)*\" \"+(2*i+1)*\"*\")"
      ],
      "metadata": {
        "colab": {
          "base_uri": "https://localhost:8080/"
        },
        "id": "linn6kGQJ9f1",
        "outputId": "fd13a28e-4a1e-4a19-f8f8-06dc08068d26"
      },
      "execution_count": 127,
      "outputs": [
        {
          "output_type": "stream",
          "name": "stdout",
          "text": [
            "    *\n",
            "   ***\n",
            "  *****\n",
            " *******\n",
            "*********\n"
          ]
        }
      ]
    },
    {
      "cell_type": "code",
      "source": [
        "def pyramid(h):\n",
        "  for i in range(h):\n",
        "    print((h-i)*\" \"+(2*i+1)*\"*\")"
      ],
      "metadata": {
        "id": "APi5DVy8TOvG"
      },
      "execution_count": 145,
      "outputs": []
    },
    {
      "cell_type": "code",
      "source": [
        "pyramid(10)"
      ],
      "metadata": {
        "colab": {
          "base_uri": "https://localhost:8080/"
        },
        "id": "5UfxmsKgUwjV",
        "outputId": "d04a7311-e10d-417d-feeb-303d2eb5d1f8"
      },
      "execution_count": 151,
      "outputs": [
        {
          "output_type": "stream",
          "name": "stdout",
          "text": [
            "          *\n",
            "         ***\n",
            "        *****\n",
            "       *******\n",
            "      *********\n",
            "     ***********\n",
            "    *************\n",
            "   ***************\n",
            "  *****************\n",
            " *******************\n"
          ]
        }
      ]
    },
    {
      "cell_type": "code",
      "source": [
        ""
      ],
      "metadata": {
        "id": "PDSQcxauWqCm"
      },
      "execution_count": null,
      "outputs": []
    },
    {
      "cell_type": "code",
      "source": [
        "from PIL import Image\n",
        "import numpy as np\n",
        "\n",
        "def rerrange(image):\n",
        "  im = image.fromarray(image)\n",
        "  r, g, b = im.split()\n",
        "  new_im = image.merge(\"RGB\",[b, g, r])\n",
        "  return np.array(new.im)\n",
        "\n",
        "demo = gr.Interface(fn=analyze, inputs=\"image\", outputs=\"image\")\n",
        "\n",
        "demo.launch(share=True)"
      ],
      "metadata": {
        "colab": {
          "base_uri": "https://localhost:8080/",
          "height": 647
        },
        "id": "-2Vf59yHZz4g",
        "outputId": "83942ae8-d565-4832-8e26-dbbf4f546bf5"
      },
      "execution_count": 160,
      "outputs": [
        {
          "output_type": "stream",
          "name": "stdout",
          "text": [
            "Colab notebook detected. To show errors in colab notebook, set `debug=True` in `launch()`\n",
            "Running on public URL: https://12208.gradio.app\n",
            "\n",
            "This share link expires in 72 hours. For free permanent hosting, check out Spaces (https://huggingface.co/spaces)\n"
          ]
        },
        {
          "output_type": "display_data",
          "data": {
            "text/plain": [
              "<IPython.core.display.HTML object>"
            ],
            "text/html": [
              "<div><iframe src=\"https://12208.gradio.app\" width=\"900\" height=\"500\" allow=\"autoplay; camera; microphone;\" frameborder=\"0\" allowfullscreen></iframe></div>"
            ]
          },
          "metadata": {}
        },
        {
          "output_type": "execute_result",
          "data": {
            "text/plain": [
              "(<gradio.routes.App at 0x7fc1fb125050>,\n",
              " 'http://127.0.0.1:7867/',\n",
              " 'https://12208.gradio.app')"
            ]
          },
          "metadata": {},
          "execution_count": 160
        }
      ]
    },
    {
      "cell_type": "code",
      "source": [
        "a = {'cat':\"fool\", 'dog':\"bozo\"}\n",
        "\n",
        "def lookup(word):\n",
        "  meaning = f\"a {word} is a {a[word]}\"\n",
        "  return meaning\n",
        "\n",
        "demo = gr.Interface(fn=lookup,\n",
        "                    inputs=\"text\",\n",
        "                    outputs=\"text\",\n",
        "                    title=\"nothing\",\n",
        "                    description=\"nothing\")\n",
        "\n",
        "demo.launch (share=True)"
      ],
      "metadata": {
        "colab": {
          "base_uri": "https://localhost:8080/",
          "height": 647
        },
        "id": "3c7gckKdcQa2",
        "outputId": "c1aa4509-08ce-4928-c91d-d85718cad1f3"
      },
      "execution_count": 185,
      "outputs": [
        {
          "output_type": "stream",
          "name": "stdout",
          "text": [
            "Colab notebook detected. To show errors in colab notebook, set `debug=True` in `launch()`\n",
            "Running on public URL: https://21083.gradio.app\n",
            "\n",
            "This share link expires in 72 hours. For free permanent hosting, check out Spaces (https://huggingface.co/spaces)\n"
          ]
        },
        {
          "output_type": "display_data",
          "data": {
            "text/plain": [
              "<IPython.core.display.HTML object>"
            ],
            "text/html": [
              "<div><iframe src=\"https://21083.gradio.app\" width=\"900\" height=\"500\" allow=\"autoplay; camera; microphone;\" frameborder=\"0\" allowfullscreen></iframe></div>"
            ]
          },
          "metadata": {}
        },
        {
          "output_type": "execute_result",
          "data": {
            "text/plain": [
              "(<gradio.routes.App at 0x7fc1fad8c950>,\n",
              " 'http://127.0.0.1:7871/',\n",
              " 'https://21083.gradio.app')"
            ]
          },
          "metadata": {},
          "execution_count": 185
        }
      ]
    }
  ]
}